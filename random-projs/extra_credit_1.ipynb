{
 "cells": [
  {
   "cell_type": "markdown",
   "metadata": {},
   "source": [
    "\n",
    "\n",
    "- One way to represent a CSV file's content is a \"dictionary of dictionaries.\"\n",
    "    - Each row on the CSV file maps to a Python dictionary.\n",
    "        - The keys for the dictionary representing the row come from the CSV file's header row.\n",
    "        - The values for the dictionary representing the row come from the data in the row's columns.\n",
    "    - One of the columns becomes the \"key\" for identifying a dictionary row in the dictionary representing the file.\n",
    "\n",
    "\n",
    "- Consider the CSV file below.\n",
    "```\n",
    "Word,Relative_Frequency,User_Created,Times_Selected,Frequency,Original\n",
    "the,1,,0,\"1,086,322,084\",\n",
    "and,0.524925431,True,11,\"570,238,088\",\n",
    "to,0.522060324,,0,\"567,125,659\",\n",
    "```\n",
    "\n",
    "\n",
    "- We could identify the column ```Word``` to the the column identifying rows. In this case, the dictionary would have the following logical structure\n",
    "\n",
    "```\n",
    "{\n",
    "  \"the\": {\n",
    "    \"Word\": \"the\",\n",
    "    \"Relative_Frequency\": \"1\",\n",
    "    \"User_Created\": \"\",\n",
    "    \"Times_Selected\": \"0\",\n",
    "    \"Frequency\": \"1,086,322,084\",\n",
    "    \"Original\": \"\"\n",
    "  },\n",
    "  \"and\": {\n",
    "    \"Word\": \"and\",\n",
    "    \"Relative_Frequency\": \"0.524925431\",\n",
    "    \"User_Created\": \"True\",\n",
    "    \"Times_Selected\": \"11\",\n",
    "    \"Frequency\": \"570,238,088\",\n",
    "    \"Original\": \"\",\n",
    "    \"Time_Selected\": 1\n",
    "  },\n",
    "  \"to\": {\n",
    "    \"Word\": \"to\",\n",
    "    \"Relative_Frequency\": \"0.522060324\",\n",
    "    \"User_Created\": \"\",\n",
    "    \"Times_Selected\": \"0\",\n",
    "    \"Frequency\": \"567,125,659\",\n",
    "    \"Original\": \"\"\n",
    "  }\n",
    "}\n",
    "```"
   ]
  },
  {
   "cell_type": "markdown",
   "metadata": {},
   "source": [
    "- For the extra-credit assignment, you will implement the functions below. The functions should work for any CSV file with a header row and correct formatting, e.g. each row has the correct number of columns/fields.\n"
   ]
  },
  {
   "cell_type": "code",
   "execution_count": 196,
   "metadata": {},
   "outputs": [],
   "source": [
    "# Load the dictionary from a CSV file using key_column as the key\n",
    "import csv, json, pprint\n",
    "from collections import OrderedDict\n",
    "d={}\n",
    "\n",
    "def load(fn, key_column):\n",
    "    global d\n",
    "    with open(fn) as f:\n",
    "        for row in csv.DictReader(f):\n",
    "            json_data = json.loads(json.dumps(row))\n",
    "            d[row[key_column]] = json_data\n",
    "    f.close()\n",
    "    return d\n",
    "    # Your Code goes here\n",
    "\n",
    "# Get an entry\n",
    "def get_entry(k):\n",
    "    global d\n",
    "    return d[k]\n",
    "\n",
    "# Add a new entry\n",
    "def add_entry(k, v):\n",
    "    # Your Code goes here \n",
    "    global d\n",
    "    d[k] = v\n",
    "    \n",
    "# Update the value of an entry\n",
    "def set_entry(k, v):\n",
    "    global d\n",
    "    if k in d:\n",
    "        d[k] = v\n",
    "    else:\n",
    "        return \"key not in dictionary\"\n",
    "    # Your Code goes here\n",
    "\n",
    "# Get the value associated with key c in dictionary entry associated with k\n",
    "def get_cell(k, c):\n",
    "    global d\n",
    "    return d[k][c]\n",
    "    # Your Code goes here\n",
    "\n",
    "# Set the entry\n",
    "def set_cell(k, c, v):\n",
    "    global d\n",
    "    if k in d:\n",
    "        d[k][c] =v\n",
    "    else:\n",
    "        return \"key or column not in dictionary\"\n",
    "    # Your Code goes here\n",
    "\n",
    "# Save the changes\n",
    "def save():\n",
    "    global d\n",
    "    print(\"In writer.\")\n",
    "    \n",
    "    f = open(\"./really-small.csv\",\"w\")\n",
    "    csv_writing = csv.writer(f)\n",
    "    print()\n",
    "    \n",
    "    #write all rows\n",
    "    i = d.keys()[0]\n",
    "    csv_writing.writerow(d[i].keys()) # header row\n",
    "    row = []\n",
    "    for key in d.keys():\n",
    "        for innerKey in d[key].keys():\n",
    "            row.append(d[key][innerKey])\n",
    "        csv_writing.writerow(row)  # header row\n",
    "        row = []\n",
    "        \n",
    "    f.close()\n",
    "     # Your Code goes here\n",
    "\n",
    "# Print the JSON representation.\n",
    "def to_str():\n",
    "    global d\n",
    "    pprint.pprint(d)\n",
    "     # Your Code goes here"
   ]
  },
  {
   "cell_type": "markdown",
   "metadata": {},
   "source": [
    "- Some sample function calls using the small file above are:"
   ]
  },
  {
   "cell_type": "code",
   "execution_count": 197,
   "metadata": {},
   "outputs": [],
   "source": [
    "# Python file where I put my implementation.\n",
    "#import dictionary_nonoo as d"
   ]
  },
  {
   "cell_type": "code",
   "execution_count": 198,
   "metadata": {},
   "outputs": [
    {
     "name": "stdout",
     "output_type": "stream",
     "text": [
      "{'and': {u'Frequency': u'570,238,088',\n",
      "         u'Original': u'',\n",
      "         u'Relative_Frequency': u'0.524925431',\n",
      "         u'Times_Selected': u'11',\n",
      "         u'User_Created': u'TRUE',\n",
      "         u'Word': u'and'},\n",
      " 'the': {u'Frequency': u'1,086,322,084',\n",
      "         u'Original': u'',\n",
      "         u'Relative_Frequency': u'1',\n",
      "         u'Times_Selected': u'0',\n",
      "         u'User_Created': u'',\n",
      "         u'Word': u'the'},\n",
      " 'to': {u'Frequency': u'567,125,659',\n",
      "        u'Original': u'',\n",
      "        u'Relative_Frequency': u'0.522060324',\n",
      "        u'Times_Selected': u'0',\n",
      "        u'User_Created': u'',\n",
      "        u'Word': u'to'}}\n",
      "None\n"
     ]
    }
   ],
   "source": [
    "load(\"really-small.csv\", \"Word\")\n",
    "print(to_str())"
   ]
  },
  {
   "cell_type": "code",
   "execution_count": 199,
   "metadata": {},
   "outputs": [],
   "source": [
    "add_entry(\"coney\", { \"Word\": \"coney\", \"Relative_Frequency\": 0, \"User_Created\": \"\", \"Times_Selected\": 0, \\\n",
    "                     \"Frequency\": 1, \"Original\": \"con\"})"
   ]
  },
  {
   "cell_type": "code",
   "execution_count": 200,
   "metadata": {},
   "outputs": [
    {
     "name": "stdout",
     "output_type": "stream",
     "text": [
      "{'and': {u'Frequency': u'570,238,088',\n",
      "         u'Original': u'',\n",
      "         u'Relative_Frequency': u'0.524925431',\n",
      "         u'Times_Selected': u'11',\n",
      "         u'User_Created': u'TRUE',\n",
      "         u'Word': u'and'},\n",
      " 'coney': {'Frequency': 1,\n",
      "           'Original': 'con',\n",
      "           'Relative_Frequency': 0,\n",
      "           'Times_Selected': 0,\n",
      "           'User_Created': '',\n",
      "           'Word': 'coney'},\n",
      " 'the': {u'Frequency': u'1,086,322,084',\n",
      "         u'Original': u'',\n",
      "         u'Relative_Frequency': u'1',\n",
      "         u'Times_Selected': u'0',\n",
      "         u'User_Created': u'',\n",
      "         u'Word': u'the'},\n",
      " 'to': {u'Frequency': u'567,125,659',\n",
      "        u'Original': u'',\n",
      "        u'Relative_Frequency': u'0.522060324',\n",
      "        u'Times_Selected': u'0',\n",
      "        u'User_Created': u'',\n",
      "        u'Word': u'to'}}\n",
      "None\n"
     ]
    }
   ],
   "source": [
    "print(to_str())"
   ]
  },
  {
   "cell_type": "code",
   "execution_count": 201,
   "metadata": {},
   "outputs": [
    {
     "name": "stdout",
     "output_type": "stream",
     "text": [
      "(\"Data for 'to' is \", {u'Word': u'to', u'Times_Selected': u'0', u'Frequency': u'567,125,659', u'User_Created': u'', u'Relative_Frequency': u'0.522060324', u'Original': u''})\n"
     ]
    }
   ],
   "source": [
    "print(\"Data for 'to' is \", get_entry(\"to\"))"
   ]
  },
  {
   "cell_type": "code",
   "execution_count": 202,
   "metadata": {},
   "outputs": [
    {
     "name": "stdout",
     "output_type": "stream",
     "text": [
      "(\"'to' was selected \", 0, 'times.')\n",
      "(\"'to' was NOW selected \", 1, 'times.')\n"
     ]
    }
   ],
   "source": [
    "to_selected = int(get_cell(\"to\", \"Times_Selected\"))\n",
    "print(\"'to' was selected \", to_selected, 'times.')\n",
    "set_cell(\"to\", \"Times_Selected\", to_selected+1)\n",
    "print(\"'to' was NOW selected \", get_cell(\"to\", \"Times_Selected\"), 'times.')"
   ]
  },
  {
   "cell_type": "code",
   "execution_count": 203,
   "metadata": {
    "scrolled": true
   },
   "outputs": [
    {
     "name": "stdout",
     "output_type": "stream",
     "text": [
      "In writer.\n",
      "()\n"
     ]
    }
   ],
   "source": [
    "save()"
   ]
  },
  {
   "cell_type": "code",
   "execution_count": 204,
   "metadata": {},
   "outputs": [
    {
     "name": "stdout",
     "output_type": "stream",
     "text": [
      "{'and': {u'Frequency': u'570,238,088',\n",
      "         u'Original': u'',\n",
      "         u'Relative_Frequency': u'0.524925431',\n",
      "         u'Times_Selected': u'11',\n",
      "         u'User_Created': u'TRUE',\n",
      "         u'Word': u'and'},\n",
      " 'coney': {u'Frequency': u'1',\n",
      "           u'Original': u'con',\n",
      "           u'Relative_Frequency': u'0',\n",
      "           u'Times_Selected': u'0',\n",
      "           u'User_Created': u'',\n",
      "           u'Word': u'coney'},\n",
      " 'the': {u'Frequency': u'1,086,322,084',\n",
      "         u'Original': u'',\n",
      "         u'Relative_Frequency': u'1',\n",
      "         u'Times_Selected': u'0',\n",
      "         u'User_Created': u'',\n",
      "         u'Word': u'the'},\n",
      " 'to': {u'Frequency': u'567,125,659',\n",
      "        u'Original': u'',\n",
      "        u'Relative_Frequency': u'0.522060324',\n",
      "        u'Times_Selected': u'1',\n",
      "        u'User_Created': u'',\n",
      "        u'Word': u'to'}}\n",
      "None\n"
     ]
    }
   ],
   "source": [
    "load(\"really-small.csv\", \"Word\")\n",
    "print(to_str())"
   ]
  },
  {
   "cell_type": "markdown",
   "metadata": {},
   "source": [
    "- For the submission\n",
    "    - Test your functions for two different CSV files. The files must have different columns and use different key columns.\n",
    "    - The tests for each file require\n",
    "        - Loading the file\n",
    "        - Print the file\n",
    "        - Calling each function at least once\n",
    "        - Saving the the file\n",
    "        - Reloading and reprinting the file."
   ]
  },
  {
   "cell_type": "code",
   "execution_count": null,
   "metadata": {},
   "outputs": [],
   "source": []
  },
  {
   "cell_type": "code",
   "execution_count": null,
   "metadata": {},
   "outputs": [],
   "source": []
  },
  {
   "cell_type": "code",
   "execution_count": null,
   "metadata": {},
   "outputs": [],
   "source": []
  },
  {
   "cell_type": "code",
   "execution_count": null,
   "metadata": {
    "collapsed": true
   },
   "outputs": [],
   "source": []
  }
 ],
 "metadata": {
  "kernelspec": {
   "display_name": "Python 2",
   "language": "python",
   "name": "python2"
  },
  "language_info": {
   "codemirror_mode": {
    "name": "ipython",
    "version": 2
   },
   "file_extension": ".py",
   "mimetype": "text/x-python",
   "name": "python",
   "nbconvert_exporter": "python",
   "pygments_lexer": "ipython2",
   "version": "2.7.14"
  },
  "toc": {
   "nav_menu": {},
   "number_sections": true,
   "sideBar": true,
   "skip_h1_title": false,
   "title_cell": "Table of Contents",
   "title_sidebar": "Contents",
   "toc_cell": false,
   "toc_position": {},
   "toc_section_display": true,
   "toc_window_display": false
  }
 },
 "nbformat": 4,
 "nbformat_minor": 2
}
